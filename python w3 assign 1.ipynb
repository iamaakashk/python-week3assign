{
 "cells": [
  {
   "cell_type": "code",
   "execution_count": 1,
   "id": "136313b7-5fea-4e3e-a765-92feb9da46bb",
   "metadata": {},
   "outputs": [],
   "source": [
    "#q1"
   ]
  },
  {
   "cell_type": "code",
   "execution_count": 2,
   "id": "cf3aa721-d569-4779-bed2-5960a2925ee3",
   "metadata": {},
   "outputs": [],
   "source": [
    "#def is the keyword by which the intializtion of function is done following the function name and logic"
   ]
  },
  {
   "cell_type": "code",
   "execution_count": 3,
   "id": "bedaee38-664c-49f6-a592-4fd1031d1254",
   "metadata": {},
   "outputs": [
    {
     "data": {
      "text/plain": [
       "range(0, 25)"
      ]
     },
     "execution_count": 3,
     "metadata": {},
     "output_type": "execute_result"
    }
   ],
   "source": [
    "range(25)"
   ]
  },
  {
   "cell_type": "code",
   "execution_count": 4,
   "id": "8b1f92f3-cd33-4cc3-8bbf-99cf66382bed",
   "metadata": {},
   "outputs": [
    {
     "name": "stdout",
     "output_type": "stream",
     "text": [
      "[0, 1, 2, 3, 4, 5, 6, 7, 8, 9, 10, 11, 12, 13, 14, 15, 16, 17, 18, 19, 20, 21, 22, 23, 24]\n"
     ]
    }
   ],
   "source": [
    "print(list(range(25)))"
   ]
  },
  {
   "cell_type": "code",
   "execution_count": 5,
   "id": "eecbda5a-afdd-45e1-bcf8-32f44518662c",
   "metadata": {},
   "outputs": [],
   "source": [
    "def giveodd(n):\n",
    "    \n",
    "    return [ x for x in range (1,n+1) if x % 2==1 ]\n",
    "    \n",
    "    "
   ]
  },
  {
   "cell_type": "code",
   "execution_count": 6,
   "id": "0b06cac6-3738-4229-968a-05bb4162d6da",
   "metadata": {},
   "outputs": [
    {
     "data": {
      "text/plain": [
       "[1, 3, 5, 7, 9, 11, 13, 15, 17, 19, 21, 23, 25]"
      ]
     },
     "execution_count": 6,
     "metadata": {},
     "output_type": "execute_result"
    }
   ],
   "source": [
    "giveodd(25)"
   ]
  },
  {
   "cell_type": "code",
   "execution_count": 7,
   "id": "2de015db-7002-439d-87bd-4fab59917ed0",
   "metadata": {},
   "outputs": [],
   "source": [
    "#q2"
   ]
  },
  {
   "cell_type": "code",
   "execution_count": 8,
   "id": "797dd3a1-6896-4b28-b76b-18ec0f46ef58",
   "metadata": {},
   "outputs": [],
   "source": [
    "# args is used to pass any number of arguments(input values) in the function\n",
    "# output provided by the args is in tuple format"
   ]
  },
  {
   "cell_type": "code",
   "execution_count": 9,
   "id": "286644bf-91df-4199-8e22-0e9fde29c9b1",
   "metadata": {},
   "outputs": [],
   "source": [
    "def f1(*args,x,y):\n",
    "    \n",
    "    return args,x+1,y+1"
   ]
  },
  {
   "cell_type": "code",
   "execution_count": 10,
   "id": "c13b67cf-b59a-4bfb-a22b-8c3576b773ab",
   "metadata": {},
   "outputs": [
    {
     "data": {
      "text/plain": [
       "((1, 2, 3, 4, 5), 7, 8)"
      ]
     },
     "execution_count": 10,
     "metadata": {},
     "output_type": "execute_result"
    }
   ],
   "source": [
    "f1( 1,2,3,4,5,x=6,y=7 )"
   ]
  },
  {
   "cell_type": "code",
   "execution_count": 11,
   "id": "a2b01bbe-8ca7-4fec-88be-cda0086c2cbf",
   "metadata": {},
   "outputs": [
    {
     "data": {
      "text/plain": [
       "tuple"
      ]
     },
     "execution_count": 11,
     "metadata": {},
     "output_type": "execute_result"
    }
   ],
   "source": [
    "type(f1( 1,2,3,4,5,x=6,y=7 ))"
   ]
  },
  {
   "cell_type": "code",
   "execution_count": 12,
   "id": "6a3ba343-2bd7-48da-8ebc-c3468d0031bf",
   "metadata": {},
   "outputs": [],
   "source": [
    "# kwargs is also does the same thing but the returning format is dictionary"
   ]
  },
  {
   "cell_type": "code",
   "execution_count": 13,
   "id": "b9dd84ab-385a-4cda-abb5-6723d0d8766a",
   "metadata": {},
   "outputs": [],
   "source": [
    "def f2(**kwargs):\n",
    "    \n",
    "    return kwargs"
   ]
  },
  {
   "cell_type": "code",
   "execution_count": 14,
   "id": "1dcbdaf0-391f-4b97-9ea2-dc136d26796c",
   "metadata": {},
   "outputs": [
    {
     "data": {
      "text/plain": [
       "{'a': 121, 'b': 'data', 'c': 'dictionary', 'd': (2+8j)}"
      ]
     },
     "execution_count": 14,
     "metadata": {},
     "output_type": "execute_result"
    }
   ],
   "source": [
    "f2(a=121,b='data',c='dictionary',d=2+8j)"
   ]
  },
  {
   "cell_type": "code",
   "execution_count": 15,
   "id": "f095560b-b2ad-4dc6-9add-56a0c8eb6a37",
   "metadata": {},
   "outputs": [
    {
     "data": {
      "text/plain": [
       "dict"
      ]
     },
     "execution_count": 15,
     "metadata": {},
     "output_type": "execute_result"
    }
   ],
   "source": [
    "type(f2(a=121,b='data',c='dictionary',d=2+8j))"
   ]
  },
  {
   "cell_type": "code",
   "execution_count": 16,
   "id": "51ab12e4-536a-453a-914f-11c6b885a613",
   "metadata": {},
   "outputs": [],
   "source": [
    "#q3"
   ]
  },
  {
   "cell_type": "code",
   "execution_count": 17,
   "id": "e10d0aad-f4cb-44ff-95da-059f394b4641",
   "metadata": {},
   "outputs": [],
   "source": [
    "# string was iterable so we dug the data usibg iter() function \n",
    "# int is not iterable"
   ]
  },
  {
   "cell_type": "code",
   "execution_count": 18,
   "id": "03d45600-35b8-4a9f-a914-3f13e788020d",
   "metadata": {},
   "outputs": [],
   "source": [
    "#iterator is type of data where its allowed to dig out that data sequentially\n",
    "#iterables are the ones whom we can convert into iterators"
   ]
  },
  {
   "cell_type": "code",
   "execution_count": 19,
   "id": "c56c6df2-7fa7-45ad-b083-6cdf9241d025",
   "metadata": {},
   "outputs": [],
   "source": [
    "#those who are iterables only those can be converted into iterators"
   ]
  },
  {
   "cell_type": "code",
   "execution_count": 20,
   "id": "bc6966ef-f7bd-4ffc-b051-66545c4e31b1",
   "metadata": {},
   "outputs": [],
   "source": [
    "#iter and next functions are used to dig out the data"
   ]
  },
  {
   "cell_type": "code",
   "execution_count": 21,
   "id": "cef7c158-107c-4e80-876a-b09c496402e3",
   "metadata": {},
   "outputs": [],
   "source": [
    "w = [2, 4, 6, 8, 10, 12, 14, 16, 18, 20]"
   ]
  },
  {
   "cell_type": "code",
   "execution_count": 22,
   "id": "3cefe3d4-7fd8-4e51-87c4-e298c7f3a436",
   "metadata": {},
   "outputs": [
    {
     "name": "stdout",
     "output_type": "stream",
     "text": [
      "2\n",
      "4\n",
      "6\n",
      "8\n",
      "10\n",
      "12\n",
      "14\n",
      "16\n",
      "18\n",
      "20\n"
     ]
    }
   ],
   "source": [
    "for i in w:\n",
    "    print(i)"
   ]
  },
  {
   "cell_type": "code",
   "execution_count": 23,
   "id": "bd5775a2-069f-40a9-9dd6-fc26ef96f082",
   "metadata": {},
   "outputs": [],
   "source": [
    "w1=iter(w)"
   ]
  },
  {
   "cell_type": "code",
   "execution_count": 24,
   "id": "69a9da69-82e3-4daf-b05a-af85870e96ce",
   "metadata": {},
   "outputs": [
    {
     "data": {
      "text/plain": [
       "2"
      ]
     },
     "execution_count": 24,
     "metadata": {},
     "output_type": "execute_result"
    }
   ],
   "source": [
    "next(w1)"
   ]
  },
  {
   "cell_type": "code",
   "execution_count": 25,
   "id": "0a422ea7-f8ad-42b6-87bb-af03123d794a",
   "metadata": {},
   "outputs": [
    {
     "data": {
      "text/plain": [
       "4"
      ]
     },
     "execution_count": 25,
     "metadata": {},
     "output_type": "execute_result"
    }
   ],
   "source": [
    "next(w1)"
   ]
  },
  {
   "cell_type": "code",
   "execution_count": 26,
   "id": "d2622136-6094-4a72-975b-e1d7ddf948f3",
   "metadata": {},
   "outputs": [
    {
     "data": {
      "text/plain": [
       "6"
      ]
     },
     "execution_count": 26,
     "metadata": {},
     "output_type": "execute_result"
    }
   ],
   "source": [
    "next(w1)"
   ]
  },
  {
   "cell_type": "code",
   "execution_count": 27,
   "id": "99dd67c6-00da-463e-bfb1-14ba42b79b3b",
   "metadata": {},
   "outputs": [
    {
     "data": {
      "text/plain": [
       "8"
      ]
     },
     "execution_count": 27,
     "metadata": {},
     "output_type": "execute_result"
    }
   ],
   "source": [
    "next(w1)"
   ]
  },
  {
   "cell_type": "code",
   "execution_count": 28,
   "id": "5dfdd7f8-2e1f-47d4-919c-8b8ab5fcef39",
   "metadata": {},
   "outputs": [
    {
     "data": {
      "text/plain": [
       "10"
      ]
     },
     "execution_count": 28,
     "metadata": {},
     "output_type": "execute_result"
    }
   ],
   "source": [
    "next(w1)"
   ]
  },
  {
   "cell_type": "code",
   "execution_count": 29,
   "id": "f0c40ccc-efeb-4ba8-a832-30cab6a38f00",
   "metadata": {},
   "outputs": [],
   "source": [
    "#q4"
   ]
  },
  {
   "cell_type": "code",
   "execution_count": 30,
   "id": "27d9ff50-f13d-4266-81ef-7057d30e4b69",
   "metadata": {},
   "outputs": [],
   "source": [
    "#if the data is more like thousands and millions so it will occupy lot of memory so GENERATIVE FN is used \n",
    "#it wont occupy the memeory (it generates data rather than accumulating and hoolding)"
   ]
  },
  {
   "cell_type": "code",
   "execution_count": 31,
   "id": "8a428eff-23c3-4727-9e12-acabdf329f6c",
   "metadata": {},
   "outputs": [],
   "source": [
    "def test_fib(n):\n",
    "    \n",
    "#generative function using for loop\n",
    "    a,b = 0,1   \n",
    "    for i in range (n) :\n",
    "        yield a \n",
    "        a,b = b,a+b"
   ]
  },
  {
   "cell_type": "code",
   "execution_count": 32,
   "id": "363978cf-8409-4915-a031-55de3649731f",
   "metadata": {},
   "outputs": [
    {
     "data": {
      "text/plain": [
       "<generator object test_fib at 0x7f27b70ee730>"
      ]
     },
     "execution_count": 32,
     "metadata": {},
     "output_type": "execute_result"
    }
   ],
   "source": [
    "test_fib(10)"
   ]
  },
  {
   "cell_type": "code",
   "execution_count": 33,
   "id": "050e3a71-656f-47ba-8366-0f3a44c62232",
   "metadata": {},
   "outputs": [
    {
     "data": {
      "text/plain": [
       "[0, 1, 1, 2, 3, 5, 8, 13, 21, 34]"
      ]
     },
     "execution_count": 33,
     "metadata": {},
     "output_type": "execute_result"
    }
   ],
   "source": [
    "list(test_fib(10))"
   ]
  },
  {
   "cell_type": "code",
   "execution_count": 34,
   "id": "aeff2c70-8ef5-4383-8ce1-81f0bc6c92a0",
   "metadata": {},
   "outputs": [
    {
     "data": {
      "text/plain": [
       "'The yield keyword is similar to the return keyword in that it returns a value from the function. \\n However, the yield keyword does not terminate the execution of the function. \\n Instead, it pauses the execution of the function and returns the value to the caller.\\n The function can then be resumed later on and will continue execution from where it left off.'"
      ]
     },
     "execution_count": 34,
     "metadata": {},
     "output_type": "execute_result"
    }
   ],
   "source": [
    "'''The yield keyword is similar to the return keyword in that it returns a value from the function. \n",
    " However, the yield keyword does not terminate the execution of the function. \n",
    " Instead, it pauses the execution of the function and returns the value to the caller.\n",
    " The function can then be resumed later on and will continue execution from where it left off.'''"
   ]
  },
  {
   "cell_type": "code",
   "execution_count": 35,
   "id": "2a1192f3-0e37-47ce-91ff-f0ea374d924b",
   "metadata": {},
   "outputs": [],
   "source": [
    "#q5"
   ]
  },
  {
   "cell_type": "code",
   "execution_count": null,
   "id": "1edd1d3f-e1c3-4839-86ef-45c1da1c3e3c",
   "metadata": {},
   "outputs": [],
   "source": [
    "num = int( input( \"Input the range : \" ))\n",
    "def test_prime(num) :\n",
    "    \n",
    "    for i in range(2, num):\n",
    "        for x in range(2, i):\n",
    "            if (i%x==0):\n",
    "                break\n",
    "    else:\n",
    "        print(i)"
   ]
  },
  {
   "cell_type": "code",
   "execution_count": null,
   "id": "dfc5cdf4-3853-4334-80ad-d2463f8d6820",
   "metadata": {},
   "outputs": [],
   "source": [
    "test_prime(30)"
   ]
  },
  {
   "cell_type": "code",
   "execution_count": null,
   "id": "6f079b72-796f-40db-95c5-a89fd62b5996",
   "metadata": {},
   "outputs": [],
   "source": [
    "#q6"
   ]
  },
  {
   "cell_type": "code",
   "execution_count": 17,
   "id": "1a794951-7801-4ac2-802d-1c706fd2a6fa",
   "metadata": {},
   "outputs": [],
   "source": [
    "def test_fib1():\n",
    "    a,b = 0,1           #generative funcion using while loop\n",
    "    while True :\n",
    "        yield a\n",
    "        a,b = b , a+b"
   ]
  },
  {
   "cell_type": "code",
   "execution_count": 18,
   "id": "cbfe5419-9556-41ee-8f2c-b0e43a7de12c",
   "metadata": {},
   "outputs": [],
   "source": [
    "fib = test_fib1()"
   ]
  },
  {
   "cell_type": "code",
   "execution_count": 19,
   "id": "aa93a4e8-c47a-434f-8c13-139aaffef6a1",
   "metadata": {},
   "outputs": [
    {
     "name": "stdout",
     "output_type": "stream",
     "text": [
      "0\n",
      "1\n",
      "1\n",
      "2\n",
      "3\n",
      "5\n",
      "8\n",
      "13\n",
      "21\n",
      "34\n"
     ]
    }
   ],
   "source": [
    "for i in range(10) :\n",
    "    print(next(fib))"
   ]
  },
  {
   "cell_type": "code",
   "execution_count": null,
   "id": "5250b015-9fea-4c30-9f3d-55ae6d671887",
   "metadata": {},
   "outputs": [],
   "source": [
    "#q7"
   ]
  },
  {
   "cell_type": "code",
   "execution_count": 20,
   "id": "20a67754-617e-4360-88bd-507a88c7a1b4",
   "metadata": {},
   "outputs": [
    {
     "name": "stdout",
     "output_type": "stream",
     "text": [
      "['p', 'w', 's', 'k', 'i', 'l', 'l', 's']\n"
     ]
    }
   ],
   "source": [
    " l1=[]\n",
    "\n",
    "for i in 'pwskills':\n",
    "    l1.append(i)\n",
    "print(l1)"
   ]
  },
  {
   "cell_type": "code",
   "execution_count": null,
   "id": "8781b300-d186-4050-adec-2dba0fafe4c0",
   "metadata": {},
   "outputs": [],
   "source": [
    "#q8"
   ]
  },
  {
   "cell_type": "code",
   "execution_count": 21,
   "id": "5bf72cfa-be8b-49b9-841a-66312fab42fa",
   "metadata": {},
   "outputs": [
    {
     "name": "stdin",
     "output_type": "stream",
     "text": [
      "number:  101\n"
     ]
    },
    {
     "name": "stdout",
     "output_type": "stream",
     "text": [
      "number is a palindrome!\n"
     ]
    }
   ],
   "source": [
    "number = int(input(\"number: \"))\n",
    "temp = number\n",
    "reverse = 0\n",
    "while (number > 0):\n",
    "    last_digit = number % 10\n",
    "    reverse = reverse * 10 + last_digit\n",
    "    number //= 10\n",
    "if (temp == reverse):\n",
    "    print(\"number is a palindrome!\")\n",
    "else:\n",
    "    print(\"number is not a palindrome!\")"
   ]
  },
  {
   "cell_type": "code",
   "execution_count": null,
   "id": "ba048080-2969-4e09-9a7d-3c7476477643",
   "metadata": {},
   "outputs": [],
   "source": [
    "#q9"
   ]
  },
  {
   "cell_type": "code",
   "execution_count": 42,
   "id": "8af7c8ee-e6a7-4e37-ab82-7768660766e1",
   "metadata": {},
   "outputs": [],
   "source": [
    "l= [1,2,3,4,5,6,7,8,9,10,11,12]"
   ]
  },
  {
   "cell_type": "code",
   "execution_count": 43,
   "id": "123baff7-8d7c-4b87-945f-f9fbe8f6c1fb",
   "metadata": {},
   "outputs": [],
   "source": [
    "def test_odd(l) :\n",
    "    \n",
    "    test_odd = []\n",
    "    \n",
    "    for i in l :\n",
    "        if i%2!=0 :\n",
    "            \n",
    "            test_odd.append(i)\n",
    "            \n",
    "        return test_odd\n",
    "      \n",
    "    "
   ]
  },
  {
   "cell_type": "code",
   "execution_count": 44,
   "id": "61e47580-6111-4578-8308-cad332e76779",
   "metadata": {},
   "outputs": [
    {
     "data": {
      "text/plain": [
       "[1]"
      ]
     },
     "execution_count": 44,
     "metadata": {},
     "output_type": "execute_result"
    }
   ],
   "source": [
    "test_odd(l)"
   ]
  },
  {
   "cell_type": "code",
   "execution_count": 8,
   "id": "57b53c79-5972-4270-8a33-2c4453838654",
   "metadata": {},
   "outputs": [],
   "source": [
    "def odd_numbers(list):\n",
    "  \"\"\"Returns all odd numbers from a list.\n",
    "\n",
    "  Args:\n",
    "    list: A list of numbers.\n",
    "\n",
    "  Returns:\n",
    "    A list of odd numbers. \"\"\"\n",
    "  \n",
    "  odd_numbers = []\n",
    "  for number in list:\n",
    "    if number % 2 != 0:\n",
    "      odd_numbers.append(number)\n",
    "  return odd_numbers"
   ]
  },
  {
   "cell_type": "code",
   "execution_count": 28,
   "id": "af523640-6223-47fa-9feb-e676dbe2ad35",
   "metadata": {},
   "outputs": [],
   "source": [
    "list=[2,3,4,5,6,7,8,9]"
   ]
  },
  {
   "cell_type": "code",
   "execution_count": 29,
   "id": "ab2631a1-d24b-4771-bceb-98d6fa3f6431",
   "metadata": {},
   "outputs": [
    {
     "data": {
      "text/plain": [
       "[3, 5, 7, 9]"
      ]
     },
     "execution_count": 29,
     "metadata": {},
     "output_type": "execute_result"
    }
   ],
   "source": [
    "odd_numbers(list)"
   ]
  },
  {
   "cell_type": "code",
   "execution_count": null,
   "id": "d1a78395-df71-4281-b7f4-6f1fea696c71",
   "metadata": {},
   "outputs": [],
   "source": []
  }
 ],
 "metadata": {
  "kernelspec": {
   "display_name": "Python 3 (ipykernel)",
   "language": "python",
   "name": "python3"
  },
  "language_info": {
   "codemirror_mode": {
    "name": "ipython",
    "version": 3
   },
   "file_extension": ".py",
   "mimetype": "text/x-python",
   "name": "python",
   "nbconvert_exporter": "python",
   "pygments_lexer": "ipython3",
   "version": "3.10.8"
  }
 },
 "nbformat": 4,
 "nbformat_minor": 5
}
